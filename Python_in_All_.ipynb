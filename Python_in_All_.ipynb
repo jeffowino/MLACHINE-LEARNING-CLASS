{
  "nbformat": 4,
  "nbformat_minor": 0,
  "metadata": {
    "colab": {
      "name": "Python in All .ipynb",
      "provenance": [],
      "authorship_tag": "ABX9TyNKQPPfi86SgCcJ+r0lUbtZ",
      "include_colab_link": true
    },
    "kernelspec": {
      "name": "python3",
      "display_name": "Python 3"
    },
    "language_info": {
      "name": "python"
    }
  },
  "cells": [
    {
      "cell_type": "markdown",
      "metadata": {
        "id": "view-in-github",
        "colab_type": "text"
      },
      "source": [
        "<a href=\"https://colab.research.google.com/github/jeffowino/MLACHINE-LEARNING-CLASS/blob/main/Python_in_All_.ipynb\" target=\"_parent\"><img src=\"https://colab.research.google.com/assets/colab-badge.svg\" alt=\"Open In Colab\"/></a>"
      ]
    },
    {
      "cell_type": "code",
      "execution_count": 2,
      "metadata": {
        "colab": {
          "base_uri": "https://localhost:8080/",
          "height": 53
        },
        "id": "m9toa4MgIOnY",
        "outputId": "7927f79b-a7f9-49b1-fd5d-452d5d7c75bf"
      },
      "outputs": [
        {
          "output_type": "stream",
          "name": "stdout",
          "text": [
            "hellow world\n"
          ]
        },
        {
          "output_type": "execute_result",
          "data": {
            "text/plain": [
              "'hellow world'"
            ],
            "application/vnd.google.colaboratory.intrinsic+json": {
              "type": "string"
            }
          },
          "metadata": {},
          "execution_count": 2
        }
      ],
      "source": [
        "t=\"hellow world\"\n",
        "print(t)\n",
        "t"
      ]
    },
    {
      "cell_type": "code",
      "source": [
        "a,b,c=5,3.3,\"hellow\"\n",
        "print(a)\n",
        "print(b)\n",
        "print(c)"
      ],
      "metadata": {
        "colab": {
          "base_uri": "https://localhost:8080/"
        },
        "id": "af2wbKMlJTna",
        "outputId": "d3f80ef1-95e3-4e43-bc80-2b48faf9ee39"
      },
      "execution_count": 4,
      "outputs": [
        {
          "output_type": "stream",
          "name": "stdout",
          "text": [
            "5\n",
            "3.3\n",
            "hellow\n"
          ]
        }
      ]
    },
    {
      "cell_type": "code",
      "source": [
        "x=(1 ==True)\n",
        "y=(1 ==False)\n",
        "a=True +4\n",
        "b=True+10\n",
        "\n",
        "print(\"x is\",y)"
      ],
      "metadata": {
        "colab": {
          "base_uri": "https://localhost:8080/"
        },
        "id": "kT1FlGBSJkIE",
        "outputId": "726c1738-307e-428c-c006-1a79b60b6ae9"
      },
      "execution_count": 5,
      "outputs": [
        {
          "output_type": "stream",
          "name": "stdout",
          "text": [
            "x is False\n"
          ]
        }
      ]
    },
    {
      "cell_type": "markdown",
      "source": [
        "Pyhthon list\n"
      ],
      "metadata": {
        "id": "v9USK0bxKRJM"
      }
    },
    {
      "cell_type": "code",
      "source": [
        "a=[5,3,4,5,6,4,6,7]\n",
        "#a[0]\n",
        "a[0:3]\n"
      ],
      "metadata": {
        "colab": {
          "base_uri": "https://localhost:8080/"
        },
        "id": "ngVg5DlfKNQI",
        "outputId": "97507cea-50a8-4edc-de7c-0f948864786a"
      },
      "execution_count": 10,
      "outputs": [
        {
          "output_type": "execute_result",
          "data": {
            "text/plain": [
              "[5, 3, 4]"
            ]
          },
          "metadata": {},
          "execution_count": 10
        }
      ]
    },
    {
      "cell_type": "markdown",
      "source": [
        "Tuple\n",
        "Ordered sequence of items ,almots same as list.Tuples are immuttatble"
      ],
      "metadata": {
        "id": "mfWNng5qLhD_"
      }
    },
    {
      "cell_type": "code",
      "source": [
        "t=(5,\"program\",1)\n",
        "t[1]"
      ],
      "metadata": {
        "colab": {
          "base_uri": "https://localhost:8080/",
          "height": 35
        },
        "id": "SQ905IX9Lw5c",
        "outputId": "f7087128-09d7-4fc0-fd70-61256025e4bd"
      },
      "execution_count": 14,
      "outputs": [
        {
          "output_type": "execute_result",
          "data": {
            "text/plain": [
              "'program'"
            ],
            "application/vnd.google.colaboratory.intrinsic+json": {
              "type": "string"
            }
          },
          "metadata": {},
          "execution_count": 14
        }
      ]
    },
    {
      "cell_type": "markdown",
      "source": [
        "Python string"
      ],
      "metadata": {
        "id": "ERSYG8ygMga9"
      }
    },
    {
      "cell_type": "code",
      "source": [
        "a=\"string\"\n",
        "a=3"
      ],
      "metadata": {
        "id": "ocSN7fGwMNPB"
      },
      "execution_count": 18,
      "outputs": []
    },
    {
      "cell_type": "code",
      "source": [
        "s=\"Heloow world\"\n",
        "s[4]"
      ],
      "metadata": {
        "colab": {
          "base_uri": "https://localhost:8080/",
          "height": 35
        },
        "id": "rMBwMO5uMv4p",
        "outputId": "a71ba3e1-1dc3-4a22-f344-92479fbdd623"
      },
      "execution_count": 19,
      "outputs": [
        {
          "output_type": "execute_result",
          "data": {
            "text/plain": [
              "'o'"
            ],
            "application/vnd.google.colaboratory.intrinsic+json": {
              "type": "string"
            }
          },
          "metadata": {},
          "execution_count": 19
        }
      ]
    },
    {
      "cell_type": "markdown",
      "source": [
        "Set\n",
        "this unordered colection of unique items\n",
        "\n",
        "{}"
      ],
      "metadata": {
        "id": "TcgG3nVCM8ID"
      }
    },
    {
      "cell_type": "code",
      "source": [
        "a={1,3,4,5,4,5}\n",
        "print(\"a=\", a)\n",
        "print(type(a))"
      ],
      "metadata": {
        "colab": {
          "base_uri": "https://localhost:8080/"
        },
        "id": "iELMeu9BM95T",
        "outputId": "372cd3f4-f76f-41ac-9225-d202112b6f71"
      },
      "execution_count": 22,
      "outputs": [
        {
          "output_type": "stream",
          "name": "stdout",
          "text": [
            "a= {1, 3, 4, 5}\n",
            "<class 'set'>\n"
          ]
        }
      ]
    },
    {
      "cell_type": "markdown",
      "source": [
        "Dictionary is un ordered coletion of key values pairs\n",
        "\n",
        "\n",
        "cities=(nairobi,mombasa,Kisumu,eldoret)\n",
        "counties=(Nairobi,mombasa,muranga)\n",
        "carbrand=(marc,toyota)"
      ],
      "metadata": {
        "id": "bTeKmLzqONEL"
      }
    },
    {
      "cell_type": "code",
      "source": [
        "d={4:\"cities\",\"carbrand\":2}\n",
        "type(d)\n",
        "d"
      ],
      "metadata": {
        "colab": {
          "base_uri": "https://localhost:8080/"
        },
        "id": "uVBoUpaANh7T",
        "outputId": "ca6ccf63-419f-4165-9864-c8a647cd1ef8"
      },
      "execution_count": 25,
      "outputs": [
        {
          "output_type": "execute_result",
          "data": {
            "text/plain": [
              "{4: 'cities', 'carbrand': 2}"
            ]
          },
          "metadata": {},
          "execution_count": 25
        }
      ]
    },
    {
      "cell_type": "code",
      "source": [
        "a=2"
      ],
      "metadata": {
        "id": "_tFNE92sROzK"
      },
      "execution_count": null,
      "outputs": []
    },
    {
      "cell_type": "markdown",
      "source": [
        "FLOW\n",
        "if test expression:\n",
        "  statement(s)"
      ],
      "metadata": {
        "id": "ju5TAPDPR_I7"
      }
    },
    {
      "cell_type": "code",
      "source": [
        "num=3\n",
        "if num>0:\n",
        "  print(num, \"is a positive number.\")\n",
        "print(\"This is always printed\")"
      ],
      "metadata": {
        "colab": {
          "base_uri": "https://localhost:8080/"
        },
        "id": "3WrkbLVZSAAJ",
        "outputId": "1bed2137-15a0-4d22-b19f-fa2d3bb16dde"
      },
      "execution_count": 26,
      "outputs": [
        {
          "output_type": "stream",
          "name": "stdout",
          "text": [
            "3 is a positive number.\n",
            "This is always printed\n"
          ]
        }
      ]
    },
    {
      "cell_type": "markdown",
      "source": [
        "If else"
      ],
      "metadata": {
        "id": "hObuIif_SppT"
      }
    },
    {
      "cell_type": "markdown",
      "source": [
        "if test  expression\n",
        "   body of if\n",
        "else:\n",
        "     Body of else\n"
      ],
      "metadata": {
        "id": "9ThSW-hfStHH"
      }
    },
    {
      "cell_type": "code",
      "source": [
        "num=3\n",
        "if num >=0:\n",
        "  print(\"positive  or zero\")\n",
        "else:\n",
        "  print(\"negative numbers\")"
      ],
      "metadata": {
        "colab": {
          "base_uri": "https://localhost:8080/"
        },
        "id": "jaUqfVAbSm2e",
        "outputId": "c6a23bcb-c0fe-42e2-d884-48e05a7c0982"
      },
      "execution_count": 27,
      "outputs": [
        {
          "output_type": "stream",
          "name": "stdout",
          "text": [
            "positive  or zero\n"
          ]
        }
      ]
    },
    {
      "cell_type": "markdown",
      "source": [
        "IF ELIF....ELSE\n",
        "\n",
        "if test expression:\n",
        "  Body of if\n",
        "elif test expression:\n",
        "  Body of elif\n",
        "Else:\n",
        "  Body of else"
      ],
      "metadata": {
        "id": "4Db9x27ATWUo"
      }
    },
    {
      "cell_type": "code",
      "source": [
        "num=3.4\n",
        "if num >0:\n",
        " print(\"this is positive\")\n",
        "elif num==0:\n",
        " print(\"zero\")\n",
        "  \n",
        "  \n",
        "else:\n",
        "  print(\"Negative number\")"
      ],
      "metadata": {
        "colab": {
          "base_uri": "https://localhost:8080/"
        },
        "id": "J9CLky-QTS2O",
        "outputId": "527ca303-0973-45c3-90ad-4bb95717e3bf"
      },
      "execution_count": 30,
      "outputs": [
        {
          "output_type": "stream",
          "name": "stdout",
          "text": [
            "this is positive\n"
          ]
        }
      ]
    },
    {
      "cell_type": "markdown",
      "source": [
        "Nested functions\n",
        "These are functions within a function"
      ],
      "metadata": {
        "id": "RwErxH2eUdhr"
      }
    },
    {
      "cell_type": "code",
      "source": [
        "num=float(input(\"Enter a number:\"))\n",
        "if num >=0:\n",
        "  if num==0:\n",
        "    print(\"positive number\")\n",
        "else:\n",
        "  print(\"Negative number\")"
      ],
      "metadata": {
        "id": "I3n7OgYSUbHQ"
      },
      "execution_count": null,
      "outputs": []
    },
    {
      "cell_type": "markdown",
      "source": [
        "FOR LOOP\n",
        "\n",
        "for val in sequence:\n",
        "loop the body"
      ],
      "metadata": {
        "id": "ZkwY9zRrVL26"
      }
    },
    {
      "cell_type": "code",
      "source": [
        "#List \n",
        "numbers=[6,4,5,2,4,5,3,6,7,8,6,8]\n",
        "#varible to store the sum\n",
        "sum=0\n",
        "#iterate over the list\n",
        "for val in numbers:\n",
        "  sum=sum+val\n",
        "print(\"The sum is\",sum)"
      ],
      "metadata": {
        "colab": {
          "base_uri": "https://localhost:8080/"
        },
        "id": "POEfTXj7VEJH",
        "outputId": "c76521d2-b671-49a3-e871-31fba6b507c5"
      },
      "execution_count": 32,
      "outputs": [
        {
          "output_type": "stream",
          "name": "stdout",
          "text": [
            "The sum is 64\n"
          ]
        }
      ]
    },
    {
      "cell_type": "code",
      "source": [
        ""
      ],
      "metadata": {
        "id": "zJ1cV6QgV1_d"
      },
      "execution_count": null,
      "outputs": []
    },
    {
      "cell_type": "markdown",
      "source": [
        "**Check on range function**"
      ],
      "metadata": {
        "id": "wSM3ydYpV_ai"
      }
    },
    {
      "cell_type": "code",
      "source": [
        "#Program thar iterates through the list using the indexing\n",
        "genre=[\"pop\",\"rock\",\"jazz\"]\n",
        "#iterate over the list  using the index\n",
        "for i in range(len(genre)):\n",
        "  print(\"I like\",genre[i])"
      ],
      "metadata": {
        "colab": {
          "base_uri": "https://localhost:8080/"
        },
        "id": "XqlAS8HYWDYK",
        "outputId": "56a1caa7-f9b8-4411-efc9-ae0be29d11ba"
      },
      "execution_count": 33,
      "outputs": [
        {
          "output_type": "stream",
          "name": "stdout",
          "text": [
            "I like pop\n",
            "I like rock\n",
            "I like jazz\n"
          ]
        }
      ]
    },
    {
      "cell_type": "code",
      "source": [
        "digits=[0,1,5]\n",
        "for i in digits:\n",
        "  print(i)\n",
        "else:\n",
        "  print(\"No items left in the list\")"
      ],
      "metadata": {
        "colab": {
          "base_uri": "https://localhost:8080/"
        },
        "id": "kexIbRbCXHy1",
        "outputId": "c07f3f77-3dd7-42b5-db82-da465ce9da5e"
      },
      "execution_count": 34,
      "outputs": [
        {
          "output_type": "stream",
          "name": "stdout",
          "text": [
            "0\n",
            "1\n",
            "5\n",
            "No items left in the list\n"
          ]
        }
      ]
    },
    {
      "cell_type": "code",
      "source": [
        "student_name=\"julius\"\n",
        "marks={\"james\":90,\"julius\":66,\"arthur\":77}\n",
        "for student in marks:\n",
        "  if student==student_name:\n",
        "    print(marks[student])\n",
        "    break\n",
        "else:\n",
        "  print(\"No entry with that name found\")\n"
      ],
      "metadata": {
        "colab": {
          "base_uri": "https://localhost:8080/"
        },
        "id": "TvyYZSZdXa2c",
        "outputId": "98a4b49e-1562-4013-93eb-9db5e55f45c0"
      },
      "execution_count": 36,
      "outputs": [
        {
          "output_type": "stream",
          "name": "stdout",
          "text": [
            "66\n"
          ]
        }
      ]
    }
  ]
}